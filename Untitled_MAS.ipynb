{
 "cells": [
  {
   "cell_type": "code",
   "execution_count": 2,
   "metadata": {},
   "outputs": [],
   "source": [
    "ma_fa=open('mizanansari.fa',encoding=\"utf8\")\n",
    "ma_en=open('mizanansari.en',encoding=\"utf8\")\n",
    "\n",
    "ma_fa_lines=ma_fa.readlines()\n",
    "ma_en_lines=ma_en.readlines()\n",
    "fa_list=[]\n",
    "en_list=[]\n",
    "for i in range(len(ma_fa_lines)):\n",
    "    fa_list.append(ma_fa_lines[i])\n",
    "    en_list.append(ma_en_lines[i])\n"
   ]
  },
  {
   "cell_type": "code",
   "execution_count": 11,
   "metadata": {},
   "outputs": [],
   "source": [
    "import random\n",
    "# dictunary=di\n",
    "random_fa=random.choices(fa_list,k=7)"
   ]
  },
  {
   "cell_type": "code",
   "execution_count": 12,
   "metadata": {},
   "outputs": [
    {
     "data": {
      "text/plain": [
       "['به این دلیل تصمیم گرفته بود که بر شتاب خود بیفزاید و سعی کند که دیگر هیچ\\u200cکس او را در آن حوالی نبیند.\\n',\n",
       " 'یواس\\u200cبی نمی\\u200cداند که اگر داده\\u200cها دریافت شود و یا نشود می\\u200cتواند در انتقال از دست رود یا می\\u200cتواند دریافت شود ولی پاسخ دست دهی از دست رفته\\u200cاست\\n',\n",
       " 'این واژه برای پیروان مکتب انطاکیه نیز آشنا و مأنوس بود- گروهی کوچک از متألهین شرق که بر وحدت و یگانگی خدا تأکید می\\u200cکردند اما در مورد تمایز شخصیت\\u200cهای تثلیث یعنی پدر و پسر و روح\\u200cالقدس دیدگاه روشنی نداشتند\\n',\n",
       " ' سلام إما، \\n',\n",
       " 'چنین تصمیم گرفته شده است که همکاری \\u200c های دوجانبه در زمینه گاز طبیعی افزایش یافته و گاز مصر از طریق ترکیه به اروپا صادر شود\\n',\n",
       " 'وقتی که توم را دید انگار دلش آرام گرفت \\n',\n",
       " 'شخصی در یک آسانسورِ در حال سقوط آزاد، بی\\u200cوزنی را تجربه می\\u200cکند و اجسام نیز یا بی\\u200cحرکت می\\u200cمانند و یا با سرعت ثابت به مسیر خود ادامه می\\u200cدهند\\n']"
      ]
     },
     "execution_count": 12,
     "metadata": {},
     "output_type": "execute_result"
    }
   ],
   "source": [
    "random_fa"
   ]
  },
  {
   "cell_type": "code",
   "execution_count": 13,
   "metadata": {},
   "outputs": [
    {
     "data": {
      "text/plain": [
       "1328510"
      ]
     },
     "execution_count": 13,
     "metadata": {},
     "output_type": "execute_result"
    }
   ],
   "source": [
    "len(ma_fa_lines)"
   ]
  },
  {
   "cell_type": "code",
   "execution_count": 23,
   "metadata": {},
   "outputs": [],
   "source": [
    "samples = []\n",
    "for i in range(793807):\n",
    "    samples.append(random.randint(0, len(ma_fa_lines)))"
   ]
  },
  {
   "cell_type": "code",
   "execution_count": 26,
   "metadata": {},
   "outputs": [],
   "source": [
    "random_ma_fa=open('random_ma_fa.fa','w',encoding=\"utf8\")\n",
    "random_ma_en=open('random_ma_en.en','w',encoding=\"utf8\")\n",
    "for i in samples:\n",
    "    random_ma_fa.write(ma_fa_lines[i].strip()+'\\n')\n",
    "    random_ma_en.write(ma_en_lines[i].strip()+'\\n')    "
   ]
  },
  {
   "cell_type": "code",
   "execution_count": 29,
   "metadata": {},
   "outputs": [],
   "source": [
    "x=open('random_ma_fa.fa',encoding=\"utf8\")\n",
    "y=open('random_ma_en.en',encoding=\"utf8\")\n",
    "x_lines=x.readlines()\n",
    "y_lines=y.readlines()"
   ]
  },
  {
   "cell_type": "code",
   "execution_count": 37,
   "metadata": {},
   "outputs": [
    {
     "data": {
      "text/plain": [
       "'گتسبی بازویی از هر کدام ما را در دست گرفت و با هم داخل محوطه رستوران شدیم، و آقای وولفشیم بی درنگ جمله تازه\\u200cای را که می\\u200cخواست شروع کند بلعید و در جذبه آدم\\u200cهایی که در خواب راه می\\u200cروند فرو رفت.\\n'"
      ]
     },
     "execution_count": 37,
     "metadata": {},
     "output_type": "execute_result"
    }
   ],
   "source": [
    "x_lines[100]"
   ]
  },
  {
   "cell_type": "code",
   "execution_count": 36,
   "metadata": {},
   "outputs": [
    {
     "data": {
      "text/plain": [
       "'Gatsby took an arm of each of us and moved forward into the restaurant whereupon Mr. Wolfshiem swallowed a new sentence he was starting and lapsed into a somnambulatory abstraction.\\n'"
      ]
     },
     "execution_count": 36,
     "metadata": {},
     "output_type": "execute_result"
    }
   ],
   "source": [
    "y_lines[100]"
   ]
  },
  {
   "cell_type": "code",
   "execution_count": null,
   "metadata": {},
   "outputs": [],
   "source": []
  }
 ],
 "metadata": {
  "kernelspec": {
   "display_name": "Python 3",
   "language": "python",
   "name": "python3"
  },
  "language_info": {
   "codemirror_mode": {
    "name": "ipython",
    "version": 3
   },
   "file_extension": ".py",
   "mimetype": "text/x-python",
   "name": "python",
   "nbconvert_exporter": "python",
   "pygments_lexer": "ipython3",
   "version": "3.6.8"
  }
 },
 "nbformat": 4,
 "nbformat_minor": 2
}
