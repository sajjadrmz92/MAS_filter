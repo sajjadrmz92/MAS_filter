{
 "cells": [
  {
   "cell_type": "code",
   "execution_count": 11,
   "metadata": {
    "scrolled": false
   },
   "outputs": [],
   "source": [
    "import nltk\n",
    "from nltk.translate import bleu_score\n",
    "from nltk.translate.bleu_score import sentence_bleu\n",
    "\n",
    "mas=open('MAS_normal.fa',encoding=\"utf8\")\n",
    "ma_fa=open('mizanansari.fa',encoding=\"utf8\")\n",
    "ma_en=open('mizanansari.en',encoding=\"utf8\")\n",
    "\n",
    "ma_fa_mas=open('mizanansari_mas.fa','w',encoding=\"utf8\")\n",
    "ma_en_mas=open('mizanansari_mas.en','w',encoding=\"utf8\")\n",
    "\n",
    "mas_lines=mas.readlines()\n",
    "ma_fa_lines=ma_fa.readlines()\n",
    "ma_en_lines=ma_en.readlines()"
   ]
  },
  {
   "cell_type": "code",
   "execution_count": 12,
   "metadata": {},
   "outputs": [],
   "source": [
    "mas_id=[]\n",
    "mas_value=[]\n",
    "for i in range(len(mas_lines)):\n",
    "    mas_id.append(i)\n",
    "    mas_value.append(mas_lines[i])    \n",
    "mas_touple=zip(mas_id,mas_value)"
   ]
  },
  {
   "cell_type": "code",
   "execution_count": 13,
   "metadata": {},
   "outputs": [],
   "source": [
    "mas_touple=tuple(mas_touple)\n",
    "mas_touple_reverse=sorted(mas_touple,reverse=True)"
   ]
  },
  {
   "cell_type": "code",
   "execution_count": 14,
   "metadata": {},
   "outputs": [],
   "source": [
    "id_list=[]\n",
    "for i, j in mas_touple_reverse:\n",
    "    id_list.append(i)"
   ]
  },
  {
   "cell_type": "code",
   "execution_count": 15,
   "metadata": {},
   "outputs": [],
   "source": [
    "for k in range(0,793807):\n",
    "    \n",
    "    ma_fa_mas.write(ma_fa_lines[id_list[k]])\n",
    "    ma_en_mas.write(ma_en_lines[id_list[k]])\n",
    "    \n",
    "ma_fa_mas.close()\n",
    "ma_en_mas.close()\n",
    "    \n",
    "#     print(ma_fa_lines[id_list[k]])\n",
    "#     print(ma_en_lines[id_list[k]])\n",
    "#     print(id_list[k])"
   ]
  },
  {
   "cell_type": "code",
   "execution_count": null,
   "metadata": {},
   "outputs": [],
   "source": []
  }
 ],
 "metadata": {
  "kernelspec": {
   "display_name": "Python 3",
   "language": "python",
   "name": "python3"
  },
  "language_info": {
   "codemirror_mode": {
    "name": "ipython",
    "version": 3
   },
   "file_extension": ".py",
   "mimetype": "text/x-python",
   "name": "python",
   "nbconvert_exporter": "python",
   "pygments_lexer": "ipython3",
   "version": "3.6.8"
  }
 },
 "nbformat": 4,
 "nbformat_minor": 2
}
